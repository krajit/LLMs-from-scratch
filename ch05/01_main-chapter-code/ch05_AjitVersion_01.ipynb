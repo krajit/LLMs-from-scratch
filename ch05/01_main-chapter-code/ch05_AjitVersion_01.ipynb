{
 "cells": [
  {
   "cell_type": "markdown",
   "id": "9f30dc0d",
   "metadata": {},
   "source": [
    "# Chapter 5: Pretraining on Unlabeled Data"
   ]
  },
  {
   "cell_type": "markdown",
   "id": "a49fbfe5",
   "metadata": {},
   "source": [
    "<img src=\"https://sebastianraschka.com/images/LLMs-from-scratch-images/ch05_compressed/chapter-overview.webp\" width=500px>"
   ]
  },
  {
   "cell_type": "markdown",
   "id": "b79d82ca",
   "metadata": {},
   "source": [
    "# Start a fresh model (constuction discussed in the last chapter)"
   ]
  },
  {
   "cell_type": "code",
   "execution_count": 11,
   "id": "c5871d8e",
   "metadata": {},
   "outputs": [],
   "source": [
    "import torch\n",
    "from previous_chapters import GPTModel\n",
    "\n",
    "GPT_CONFIG_124M = {\n",
    "    \"vocab_size\": 50257,   # Vocabulary size\n",
    "    \"context_length\": 256, # Shortened context length (orig: 1024)\n",
    "    \"emb_dim\": 768,        # Embedding dimension\n",
    "    \"n_heads\": 12,         # Number of attention heads\n",
    "    \"n_layers\": 12,        # Number of layers\n",
    "    \"drop_rate\": 0.1,      # Dropout rate\n",
    "    \"qkv_bias\": False      # Query-key-value bias\n",
    "}\n",
    "\n",
    "torch.manual_seed(123)\n",
    "model = GPTModel(GPT_CONFIG_124M)\n",
    "model.eval();  # Disable dropout during inference"
   ]
  },
  {
   "cell_type": "markdown",
   "id": "39c3a001",
   "metadata": {},
   "source": [
    "# Data"
   ]
  },
  {
   "cell_type": "code",
   "execution_count": 12,
   "id": "9b0ad714",
   "metadata": {},
   "outputs": [],
   "source": [
    "import os\n",
    "import urllib.request\n",
    "\n",
    "file_path = \"the-verdict.txt\"\n",
    "url = \"https://raw.githubusercontent.com/rasbt/LLMs-from-scratch/main/ch02/01_main-chapter-code/the-verdict.txt\"\n",
    "\n",
    "if not os.path.exists(file_path):\n",
    "    with urllib.request.urlopen(url) as response:\n",
    "        text_data = response.read().decode('utf-8')\n",
    "    with open(file_path, \"w\", encoding=\"utf-8\") as file:\n",
    "        file.write(text_data)\n",
    "else:\n",
    "    with open(file_path, \"r\", encoding=\"utf-8\") as file:\n",
    "        text_data = file.read()\n"
   ]
  },
  {
   "cell_type": "code",
   "execution_count": 13,
   "id": "4b8461ec",
   "metadata": {},
   "outputs": [],
   "source": [
    "#print(text_data)"
   ]
  },
  {
   "cell_type": "code",
   "execution_count": 14,
   "id": "c436e0c6",
   "metadata": {},
   "outputs": [
    {
     "name": "stdout",
     "output_type": "stream",
     "text": [
      "Output text:\n",
      " Every effort moves you rentingetic wasnم refres RexMeCHicular stren\n"
     ]
    }
   ],
   "source": [
    "# some helper functions\n",
    "import tiktoken\n",
    "from previous_chapters import generate_text_simple\n",
    "\n",
    "def text_to_token_ids(text, tokenizer):\n",
    "    encoded = tokenizer.encode(text, allowed_special={'<|endoftext|>'})\n",
    "    encoded_tensor = torch.tensor(encoded).unsqueeze(0) # add batch dimension\n",
    "    return encoded_tensor\n",
    "\n",
    "def token_ids_to_text(token_ids, tokenizer):\n",
    "    flat = token_ids.squeeze(0) # remove batch dimension\n",
    "    return tokenizer.decode(flat.tolist())\n",
    "\n",
    "start_context = \"Every effort moves you\"\n",
    "tokenizer = tiktoken.get_encoding(\"gpt2\")\n",
    "\n",
    "token_ids = generate_text_simple(\n",
    "    model=model,\n",
    "    idx=text_to_token_ids(start_context, tokenizer),\n",
    "    max_new_tokens=10,\n",
    "    context_size=GPT_CONFIG_124M[\"context_length\"]\n",
    ")\n",
    "\n",
    "print(\"Output text:\\n\", token_ids_to_text(token_ids, tokenizer))\n"
   ]
  },
  {
   "cell_type": "markdown",
   "id": "3a3fec56",
   "metadata": {},
   "source": [
    "# Tokenization + dataset + dataloader\n"
   ]
  },
  {
   "cell_type": "markdown",
   "id": "52bb88b0",
   "metadata": {},
   "source": [
    "<img src=\"https://sebastianraschka.com/images/LLMs-from-scratch-images/ch05_compressed/batching.webp\" width=500px>"
   ]
  },
  {
   "cell_type": "code",
   "execution_count": 15,
   "id": "27ace01f",
   "metadata": {},
   "outputs": [],
   "source": [
    "import tiktoken\n",
    "tokenizer = tiktoken.get_encoding(\"gpt2\")\n",
    "from previous_chapters import create_dataloader_v1\n",
    "\n",
    "# Train/validation ratio\n",
    "train_ratio = 0.90\n",
    "split_idx = int(train_ratio * len(text_data))\n",
    "train_data = text_data[:split_idx]\n",
    "val_data = text_data[split_idx:]\n",
    "\n",
    "\n",
    "torch.manual_seed(123)\n",
    "\n",
    "train_loader = create_dataloader_v1(\n",
    "    train_data,\n",
    "    batch_size=2,\n",
    "    max_length=GPT_CONFIG_124M[\"context_length\"],\n",
    "    stride= GPT_CONFIG_124M[\"context_length\"],\n",
    "    drop_last=True,\n",
    "    shuffle=True,\n",
    "    num_workers=0\n",
    ")\n",
    "\n",
    "val_loader = create_dataloader_v1(\n",
    "    val_data,\n",
    "    batch_size=2,\n",
    "    max_length=GPT_CONFIG_124M[\"context_length\"],\n",
    "    stride=GPT_CONFIG_124M[\"context_length\"],\n",
    "    drop_last=False,\n",
    "    shuffle=False,\n",
    "    num_workers=0\n",
    ")"
   ]
  },
  {
   "cell_type": "code",
   "execution_count": 16,
   "id": "25bfa38d",
   "metadata": {},
   "outputs": [
    {
     "name": "stdout",
     "output_type": "stream",
     "text": [
      "tensor([[   40,   367,  2885,  1464,  1807,  3619,   402,   271, 10899,  2138,\n",
      "           257,  7026, 15632,   438,  2016,   257,   922,  5891,  1576,   438,\n",
      "           568,   340,   373,   645,  1049,  5975,   284,   502,   284,  3285,\n",
      "           326,    11,   287,   262,  6001,   286,   465, 13476,    11,   339,\n",
      "           550,  5710,   465, 12036,    11,  6405,   257,  5527, 27075,    11,\n",
      "           290,  4920,  2241,   287,   257,  4489,    64,   319,   262, 34686,\n",
      "         41976,    13,   357, 10915,   314,  2138,  1807,   340,   561,   423,\n",
      "           587, 10598,   393, 28537,  2014,   198,   198,     1,   464,  6001,\n",
      "           286,   465, 13476,     1,   438,  5562,   373,   644,   262,  1466,\n",
      "          1444,   340,    13,   314,   460,  3285,  9074,    13, 46606,   536,\n",
      "          5469,   438, 14363,   938,  4842,  1650,   353,   438,  2934,   489,\n",
      "          3255,   465, 48422,   540,   450,    67,  3299,    13,   366,  5189,\n",
      "          1781,   340,   338,  1016,   284,  3758,   262,  1988,   286,   616,\n",
      "          4286,   705,  1014,   510,    26,   475,   314,   836,   470,   892,\n",
      "           286,   326,    11,  1770,    13,  8759,  2763,   438,  1169,  2994,\n",
      "           284,   943, 17034,   318,   477,   314,   892,   286,   526,   383,\n",
      "          1573,    11,   319,  9074,    13,   536,  5469,   338, 11914,    11,\n",
      "         33096,   663,  4808,  3808,    62,   355,   996,   484,   547, 12548,\n",
      "           287,   281, 13079,   410, 12523,   286, 22353,    13,   843,   340,\n",
      "           373,   407,   691,   262,  9074,    13,   536, 48819,   508, 25722,\n",
      "           276,    13, 11161,   407,   262, 40123, 18113,   544,  9325,   701,\n",
      "            11,   379,   262,   938,   402,  1617,   261, 12917,   905,    11,\n",
      "          5025,   502,   878,   402,   271, 10899,   338,   366, 31640,    12,\n",
      "            67, 20811,     1,   284,   910,    11,   351, 10953,   287,   607,\n",
      "          2951,    25,   366,  1135,  2236,   407,   804,  2402,   663,   588,\n",
      "           757, 13984,   198,   198,  5779, 28112],\n",
      "        [41186, 39614,  1386,    11,   287,   262, 13203,  5482,  1044,   276,\n",
      "          5739,    13,   383,  5019, 19001,   286,   262,  5739,  1444,   510,\n",
      "           477,   402,   271, 10899,   338,  1613,     0,   198,   198, 27034,\n",
      "            13,   402,   271, 10899,  9859,   736,   262,  4324,    12,    66,\n",
      "          3325,  1299,    11,  3888,  7263,   257,  4808,    73,   446,   259,\n",
      "         13235,    62,  1336,   286, 11398, 35560,  1000,   292,    11,  7121,\n",
      "           281,  3211,    12, 16337,  1497,    11,   290,   531,    25,   366,\n",
      "          1532,   345,  1302,   994,   345,   460,   655,  6687,   284,   766,\n",
      "           340,    13,   314,   550,   340,   625,   262, 24818,   417,    12,\n",
      "         12239,    11,   475,   339,  3636,   470,  1309,   340,  2652,   526,\n",
      "           198,   198,  5297,   438,    40,   714,   655,  6687,   284,   766,\n",
      "           340,   438,  1169,   717, 18560,   286,  3619,   338,   314,   550,\n",
      "          1683,   550,   284, 14022,   616,  2951,   625,     0, 19672,   484,\n",
      "           550,   262,  1295,   286, 15393,   438, 16706,   262,  4318,  6103,\n",
      "           287,   257, 14005,  7872,   393,  4808, 13698, 10322,  6532,    62,\n",
      "          8263,    12,  3823,    11,   393,   257, 36364,  1396,   417,  4624,\n",
      "           523,   326,   340,  1718,   262,  1657,   832, 41160,   286,  1468,\n",
      "          9932,   316,   666,   966,    13,   383,   517, 12949,  1295,  2627,\n",
      "           262,  4286,  1365,    26,  1865,    11,   355,   616,  2951,  6348,\n",
      "         23840,   284,   262,  2063,    12,  2971,    11,   477,   262, 16704,\n",
      "         14482,  1625,   503,   438,   439,   262, 10818, 20597, 32192,   355,\n",
      "          2709,   330,   871,    11,   262, 15910,   286, 16153,   312,   328,\n",
      "          3780,   416,   543,    11,   351,   884,  2784,  9830,  5032,    11,\n",
      "           339,  5257,   284, 36583,  3241,   422,   262,  1103,  1597,   286,\n",
      "           262,  4286,   284,   617,  2495, 11331,  2768,   590,   286,  3703,\n",
      "            13,  9074,    13,   402,   271, 10899]])\n",
      "tensor([[  367,  2885,  1464,  1807,  3619,   402,   271, 10899,  2138,   257,\n",
      "          7026, 15632,   438,  2016,   257,   922,  5891,  1576,   438,   568,\n",
      "           340,   373,   645,  1049,  5975,   284,   502,   284,  3285,   326,\n",
      "            11,   287,   262,  6001,   286,   465, 13476,    11,   339,   550,\n",
      "          5710,   465, 12036,    11,  6405,   257,  5527, 27075,    11,   290,\n",
      "          4920,  2241,   287,   257,  4489,    64,   319,   262, 34686, 41976,\n",
      "            13,   357, 10915,   314,  2138,  1807,   340,   561,   423,   587,\n",
      "         10598,   393, 28537,  2014,   198,   198,     1,   464,  6001,   286,\n",
      "           465, 13476,     1,   438,  5562,   373,   644,   262,  1466,  1444,\n",
      "           340,    13,   314,   460,  3285,  9074,    13, 46606,   536,  5469,\n",
      "           438, 14363,   938,  4842,  1650,   353,   438,  2934,   489,  3255,\n",
      "           465, 48422,   540,   450,    67,  3299,    13,   366,  5189,  1781,\n",
      "           340,   338,  1016,   284,  3758,   262,  1988,   286,   616,  4286,\n",
      "           705,  1014,   510,    26,   475,   314,   836,   470,   892,   286,\n",
      "           326,    11,  1770,    13,  8759,  2763,   438,  1169,  2994,   284,\n",
      "           943, 17034,   318,   477,   314,   892,   286,   526,   383,  1573,\n",
      "            11,   319,  9074,    13,   536,  5469,   338, 11914,    11, 33096,\n",
      "           663,  4808,  3808,    62,   355,   996,   484,   547, 12548,   287,\n",
      "           281, 13079,   410, 12523,   286, 22353,    13,   843,   340,   373,\n",
      "           407,   691,   262,  9074,    13,   536, 48819,   508, 25722,   276,\n",
      "            13, 11161,   407,   262, 40123, 18113,   544,  9325,   701,    11,\n",
      "           379,   262,   938,   402,  1617,   261, 12917,   905,    11,  5025,\n",
      "           502,   878,   402,   271, 10899,   338,   366, 31640,    12,    67,\n",
      "         20811,     1,   284,   910,    11,   351, 10953,   287,   607,  2951,\n",
      "            25,   366,  1135,  2236,   407,   804,  2402,   663,   588,   757,\n",
      "         13984,   198,   198,  5779, 28112, 10197],\n",
      "        [39614,  1386,    11,   287,   262, 13203,  5482,  1044,   276,  5739,\n",
      "            13,   383,  5019, 19001,   286,   262,  5739,  1444,   510,   477,\n",
      "           402,   271, 10899,   338,  1613,     0,   198,   198, 27034,    13,\n",
      "           402,   271, 10899,  9859,   736,   262,  4324,    12,    66,  3325,\n",
      "          1299,    11,  3888,  7263,   257,  4808,    73,   446,   259, 13235,\n",
      "            62,  1336,   286, 11398, 35560,  1000,   292,    11,  7121,   281,\n",
      "          3211,    12, 16337,  1497,    11,   290,   531,    25,   366,  1532,\n",
      "           345,  1302,   994,   345,   460,   655,  6687,   284,   766,   340,\n",
      "            13,   314,   550,   340,   625,   262, 24818,   417,    12, 12239,\n",
      "            11,   475,   339,  3636,   470,  1309,   340,  2652,   526,   198,\n",
      "           198,  5297,   438,    40,   714,   655,  6687,   284,   766,   340,\n",
      "           438,  1169,   717, 18560,   286,  3619,   338,   314,   550,  1683,\n",
      "           550,   284, 14022,   616,  2951,   625,     0, 19672,   484,   550,\n",
      "           262,  1295,   286, 15393,   438, 16706,   262,  4318,  6103,   287,\n",
      "           257, 14005,  7872,   393,  4808, 13698, 10322,  6532,    62,  8263,\n",
      "            12,  3823,    11,   393,   257, 36364,  1396,   417,  4624,   523,\n",
      "           326,   340,  1718,   262,  1657,   832, 41160,   286,  1468,  9932,\n",
      "           316,   666,   966,    13,   383,   517, 12949,  1295,  2627,   262,\n",
      "          4286,  1365,    26,  1865,    11,   355,   616,  2951,  6348, 23840,\n",
      "           284,   262,  2063,    12,  2971,    11,   477,   262, 16704, 14482,\n",
      "          1625,   503,   438,   439,   262, 10818, 20597, 32192,   355,  2709,\n",
      "           330,   871,    11,   262, 15910,   286, 16153,   312,   328,  3780,\n",
      "           416,   543,    11,   351,   884,  2784,  9830,  5032,    11,   339,\n",
      "          5257,   284, 36583,  3241,   422,   262,  1103,  1597,   286,   262,\n",
      "          4286,   284,   617,  2495, 11331,  2768,   590,   286,  3703,    13,\n",
      "          9074,    13,   402,   271, 10899,    11]])\n"
     ]
    }
   ],
   "source": [
    "# see the first batch\n",
    "for input, output in  train_loader:\n",
    "    print (input)\n",
    "    print(output)\n",
    "    break # breaking out of loop after the first batch"
   ]
  },
  {
   "cell_type": "code",
   "execution_count": null,
   "id": "7072b8e8",
   "metadata": {},
   "outputs": [],
   "source": []
  },
  {
   "cell_type": "markdown",
   "id": "7e708371",
   "metadata": {},
   "source": [
    "# Model already imported\n"
   ]
  },
  {
   "cell_type": "markdown",
   "id": "04523807",
   "metadata": {},
   "source": [
    "# Loss function: What are we training for? "
   ]
  },
  {
   "cell_type": "code",
   "execution_count": 17,
   "id": "2416b551",
   "metadata": {},
   "outputs": [],
   "source": [
    "def calc_loss_batch(input_batch, target_batch, model, device):\n",
    "    input_batch, target_batch = input_batch.to(device), target_batch.to(device)\n",
    "    logits = model(input_batch)\n",
    "    loss = torch.nn.functional.cross_entropy(logits.flatten(0, 1), target_batch.flatten())\n",
    "    return loss"
   ]
  },
  {
   "cell_type": "code",
   "execution_count": 18,
   "id": "d938bf89",
   "metadata": {},
   "outputs": [],
   "source": [
    "def calc_loss_loader(data_loader, model, device, num_batches=None):\n",
    "    total_loss = 0.\n",
    "    if len(data_loader) == 0:\n",
    "        return float(\"nan\")\n",
    "    elif num_batches is None:\n",
    "        num_batches = len(data_loader)\n",
    "    else:\n",
    "        # Reduce the number of batches to match the total number of batches in the data loader\n",
    "        # if num_batches exceeds the number of batches in the data loader\n",
    "        num_batches = min(num_batches, len(data_loader))\n",
    "    for i, (input_batch, target_batch) in enumerate(data_loader):\n",
    "        if i < num_batches:\n",
    "            loss = calc_loss_batch(input_batch, target_batch, model, device)\n",
    "            total_loss += loss.item()\n",
    "        else:\n",
    "            break\n",
    "    return total_loss / num_batches\n"
   ]
  },
  {
   "cell_type": "code",
   "execution_count": 19,
   "id": "71d09e88",
   "metadata": {},
   "outputs": [],
   "source": [
    "device = torch.device(\"cuda\" if torch.cuda.is_available() else \"cpu\")\n"
   ]
  },
  {
   "cell_type": "code",
   "execution_count": 21,
   "id": "a3cbc8a9",
   "metadata": {},
   "outputs": [
    {
     "data": {
      "text/plain": [
       "tensor(11.0140, device='cuda:0', grad_fn=<NllLossBackward0>)"
      ]
     },
     "execution_count": 21,
     "metadata": {},
     "output_type": "execute_result"
    }
   ],
   "source": [
    "model.to(device)\n",
    "calc_loss_batch(input, output, model, device)"
   ]
  },
  {
   "cell_type": "code",
   "execution_count": 22,
   "id": "8c74da78",
   "metadata": {},
   "outputs": [
    {
     "name": "stdout",
     "output_type": "stream",
     "text": [
      "Training loss: 10.987583584255642\n",
      "Validation loss: 10.98110580444336\n"
     ]
    }
   ],
   "source": [
    "model.to(device) # no assignment model = model.to(device) necessary for nn.Module classes\n",
    "\n",
    "\n",
    "torch.manual_seed(123) # For reproducibility due to the shuffling in the data loader\n",
    "\n",
    "with torch.no_grad(): # Disable gradient tracking for efficiency because we are not training, yet\n",
    "    train_loss = calc_loss_loader(train_loader, model, device)\n",
    "    val_loss = calc_loss_loader(val_loader, model, device)\n",
    "\n",
    "print(\"Training loss:\", train_loss)\n",
    "print(\"Validation loss:\", val_loss)"
   ]
  },
  {
   "cell_type": "markdown",
   "id": "cbe83716",
   "metadata": {},
   "source": [
    "## Finally: Training an LLM"
   ]
  },
  {
   "cell_type": "markdown",
   "id": "f4ded216",
   "metadata": {},
   "source": [
    "- In this section, we finally implement the code for training the LLM\n",
    "- We focus on a simple training function (if you are interested in augmenting this training function with more advanced techniques, such as learning rate warmup, cosine annealing, and gradient clipping, please refer to [Appendix D](../../appendix-D/01_main-chapter-code))\n",
    "\n",
    "<img src=\"https://sebastianraschka.com/images/LLMs-from-scratch-images/ch05_compressed/train-steps.webp\" width=300px>"
   ]
  },
  {
   "cell_type": "code",
   "execution_count": 23,
   "id": "95f8a938",
   "metadata": {},
   "outputs": [],
   "source": [
    "def train_model_simple(model, train_loader, val_loader, optimizer, device, num_epochs,\n",
    "                       eval_freq, eval_iter, start_context, tokenizer):\n",
    "    # Initialize lists to track losses and tokens seen\n",
    "    train_losses, val_losses, track_tokens_seen = [], [], []\n",
    "    tokens_seen, global_step = 0, -1\n",
    "\n",
    "    # Main training loop\n",
    "    for epoch in range(num_epochs):\n",
    "        model.train()  # Set model to training mode\n",
    "        \n",
    "        for input_batch, target_batch in train_loader:\n",
    "            optimizer.zero_grad() # Reset loss gradients from previous batch iteration\n",
    "            loss = calc_loss_batch(input_batch, target_batch, model, device)\n",
    "            loss.backward() # Calculate loss gradients\n",
    "            optimizer.step() # Update model weights using loss gradients\n",
    "            tokens_seen += input_batch.numel()\n",
    "            global_step += 1\n",
    "\n",
    "            # Optional evaluation step\n",
    "            if global_step % eval_freq == 0:\n",
    "                train_loss, val_loss = evaluate_model(\n",
    "                    model, train_loader, val_loader, device, eval_iter)\n",
    "                train_losses.append(train_loss)\n",
    "                val_losses.append(val_loss)\n",
    "                track_tokens_seen.append(tokens_seen)\n",
    "                print(f\"Ep {epoch+1} (Step {global_step:06d}): \"\n",
    "                      f\"Train loss {train_loss:.3f}, Val loss {val_loss:.3f}\")\n",
    "\n",
    "        # Print a sample text after each epoch\n",
    "        generate_and_print_sample(\n",
    "            model, tokenizer, device, start_context\n",
    "        )\n",
    "\n",
    "    return train_losses, val_losses, track_tokens_seen\n",
    "\n",
    "\n",
    "def evaluate_model(model, train_loader, val_loader, device, eval_iter):\n",
    "    model.eval()\n",
    "    with torch.no_grad():\n",
    "        train_loss = calc_loss_loader(train_loader, model, device, num_batches=eval_iter)\n",
    "        val_loss = calc_loss_loader(val_loader, model, device, num_batches=eval_iter)\n",
    "    model.train()\n",
    "    return train_loss, val_loss\n",
    "\n",
    "\n",
    "def generate_and_print_sample(model, tokenizer, device, start_context):\n",
    "    model.eval()\n",
    "    context_size = model.pos_emb.weight.shape[0]\n",
    "    encoded = text_to_token_ids(start_context, tokenizer).to(device)\n",
    "    with torch.no_grad():\n",
    "        token_ids = generate_text_simple(\n",
    "            model=model, idx=encoded,\n",
    "            max_new_tokens=50, context_size=context_size\n",
    "        )\n",
    "    decoded_text = token_ids_to_text(token_ids, tokenizer)\n",
    "    print(decoded_text.replace(\"\\n\", \" \"))  # Compact print format\n",
    "    model.train()"
   ]
  },
  {
   "cell_type": "markdown",
   "id": "93072196",
   "metadata": {},
   "source": [
    "- Now, let's train the LLM using the training function defined above:"
   ]
  },
  {
   "cell_type": "code",
   "execution_count": 24,
   "id": "e1e2c23f",
   "metadata": {},
   "outputs": [
    {
     "name": "stdout",
     "output_type": "stream",
     "text": [
      "Ep 1 (Step 000000): Train loss 9.823, Val loss 9.932\n",
      "Ep 1 (Step 000005): Train loss 8.065, Val loss 8.338\n",
      "Every effort moves you,,,,,,,,,,,,.                                     \n",
      "Ep 2 (Step 000010): Train loss 6.625, Val loss 7.055\n",
      "Ep 2 (Step 000015): Train loss 6.046, Val loss 6.601\n",
      "Every effort moves you, and,, and,,,,,,, and,.                                   \n",
      "Ep 3 (Step 000020): Train loss 5.539, Val loss 6.504\n",
      "Ep 3 (Step 000025): Train loss 5.427, Val loss 6.383\n",
      "Every effort moves you, and to the of the of the of the, and I had. Gis, and, and, and, and, and, and the, and, and, and, and, and, and, and, and, and, and\n",
      "Ep 4 (Step 000030): Train loss 4.978, Val loss 6.287\n",
      "Ep 4 (Step 000035): Train loss 4.733, Val loss 6.297\n",
      "Every effort moves you, I had the of the of the picture to the picture.               \"I\"I had the  \"I the           \n",
      "Ep 5 (Step 000040): Train loss 4.099, Val loss 6.177\n",
      "Every effort moves you know the                                                \n",
      "Ep 6 (Step 000045): Train loss 3.675, Val loss 6.153\n",
      "Ep 6 (Step 000050): Train loss 3.127, Val loss 6.146\n",
      "Every effort moves you know the fact, and pushed one of the to the fact with a little a little to my work, and in fact, and.         \"Oh, and he was, and down the room, and in\n",
      "Ep 7 (Step 000055): Train loss 3.047, Val loss 6.184\n",
      "Ep 7 (Step 000060): Train loss 2.309, Val loss 6.131\n",
      "Every effort moves you know,\" was not that the picture for a smile that he had the last word.        \"I looked. \"--as Jack himself at my elbow and he was a little a--because he was his pictures\n",
      "Ep 8 (Step 000065): Train loss 1.876, Val loss 6.149\n",
      "Ep 8 (Step 000070): Train loss 1.558, Val loss 6.223\n",
      "Every effort moves you?\"  \"Yes--I glanced after him, and uncertain.  \"I looked up at the!  \"I looked up the moment--as Jack himself, as once one had been the donkey. \"There were days when I\n",
      "Ep 9 (Step 000075): Train loss 1.205, Val loss 6.229\n",
      "Ep 9 (Step 000080): Train loss 0.912, Val loss 6.257\n",
      "Every effort moves you?\"  \"Yes--quite insensible to the fact with the last word. He was no great, and in an unusual degree to the display of his close grayish beard--as if he had the donkey. \"There were days when I\n",
      "Ep 10 (Step 000085): Train loss 0.662, Val loss 6.367\n",
      "Every effort moves you?\"  \"Yes--quite insensible to the irony. She wanted him vindicated--and by me!\"  He laughed again, and threw back his head to look up at the sketch of the donkey. \"There were days when I\n"
     ]
    }
   ],
   "source": [
    "# Note:\n",
    "# Uncomment the following code to calculate the execution time\n",
    "# import time\n",
    "# start_time = time.time()\n",
    "\n",
    "torch.manual_seed(123)\n",
    "model = GPTModel(GPT_CONFIG_124M)\n",
    "model.to(device)\n",
    "optimizer = torch.optim.AdamW(model.parameters(), lr=0.0004, weight_decay=0.1)\n",
    "\n",
    "num_epochs = 10\n",
    "train_losses, val_losses, tokens_seen = train_model_simple(\n",
    "    model, train_loader, val_loader, optimizer, device,\n",
    "    num_epochs=num_epochs, eval_freq=5, eval_iter=5,\n",
    "    start_context=\"Every effort moves you\", tokenizer=tokenizer\n",
    ")\n",
    "\n",
    "# Note:\n",
    "# Uncomment the following code to show the execution time\n",
    "# end_time = time.time()\n",
    "# execution_time_minutes = (end_time - start_time) / 60\n",
    "# print(f\"Training completed in {execution_time_minutes:.2f} minutes.\")"
   ]
  },
  {
   "cell_type": "code",
   "execution_count": 25,
   "id": "f46f283a",
   "metadata": {},
   "outputs": [
    {
     "data": {
      "image/png": "[encoded data removed]",
      "text/plain": [
       "<Figure size 500x300 with 2 Axes>"
      ]
     },
     "metadata": {},
     "output_type": "display_data"
    }
   ],
   "source": [
    "import matplotlib.pyplot as plt\n",
    "from matplotlib.ticker import MaxNLocator\n",
    "\n",
    "\n",
    "def plot_losses(epochs_seen, tokens_seen, train_losses, val_losses):\n",
    "    fig, ax1 = plt.subplots(figsize=(5, 3))\n",
    "\n",
    "    # Plot training and validation loss against epochs\n",
    "    ax1.plot(epochs_seen, train_losses, label=\"Training loss\")\n",
    "    ax1.plot(epochs_seen, val_losses, linestyle=\"-.\", label=\"Validation loss\")\n",
    "    ax1.set_xlabel(\"Epochs\")\n",
    "    ax1.set_ylabel(\"Loss\")\n",
    "    ax1.legend(loc=\"upper right\")\n",
    "    ax1.xaxis.set_major_locator(MaxNLocator(integer=True))  # only show integer labels on x-axis\n",
    "\n",
    "    # Create a second x-axis for tokens seen\n",
    "    ax2 = ax1.twiny()  # Create a second x-axis that shares the same y-axis\n",
    "    ax2.plot(tokens_seen, train_losses, alpha=0)  # Invisible plot for aligning ticks\n",
    "    ax2.set_xlabel(\"Tokens seen\")\n",
    "\n",
    "    fig.tight_layout()  # Adjust layout to make room\n",
    "    plt.savefig(\"loss-plot.pdf\")\n",
    "    plt.show()\n",
    "\n",
    "epochs_tensor = torch.linspace(0, num_epochs, len(train_losses))\n",
    "plot_losses(epochs_tensor, tokens_seen, train_losses, val_losses)"
   ]
  },
  {
   "cell_type": "code",
   "execution_count": 27,
   "id": "277e3fdc",
   "metadata": {},
   "outputs": [],
   "source": [
    "# save the model on disk\n",
    "torch.save(model.state_dict(), \"/teamspace/studios/this_studio/LLMs-from-scratch/trainedModels/model_feb22_01.pth\")"
   ]
  },
  {
   "cell_type": "code",
   "execution_count": 28,
   "id": "0689bc0c",
   "metadata": {},
   "outputs": [],
   "source": [
    "# loading saved pretrained model from file\n",
    "\n",
    "model2 = GPTModel(GPT_CONFIG_124M)\n",
    "device = torch.device(\"cuda\" if torch.cuda.is_available() else \"cpu\")\n",
    "model2.load_state_dict(torch.load(\"/teamspace/studios/this_studio/LLMs-from-scratch/trainedModels/model_feb22_01.pth\", map_location=device, weights_only=True))\n",
    "model2.eval();"
   ]
  },
  {
   "cell_type": "code",
   "execution_count": 31,
   "id": "2835554d",
   "metadata": {},
   "outputs": [
    {
     "name": "stdout",
     "output_type": "stream",
     "text": [
      "Every effort moves you?\"  \"Yes--quite insensible to the irony. She wanted him vindicated--and by me!\"  He laughed again, and threw back his head to look up at the sketch of the donkey. \"There were days when I\n"
     ]
    }
   ],
   "source": [
    "# test model2\n",
    "model2.to(device)\n",
    "generate_and_print_sample(model2, tokenizer, device, start_context)\n"
   ]
  },
  {
   "cell_type": "markdown",
   "id": "859caf10",
   "metadata": {},
   "source": [
    "For other advanced stuff see \n",
    "\n",
    "https://github.com/krajit/LLMs-from-scratch/blob/main/ch05/01_main-chapter-code/ch05.ipynb"
   ]
  },
  {
   "cell_type": "code",
   "execution_count": null,
   "id": "898f4078",
   "metadata": {},
   "outputs": [],
   "source": []
  }
 ],
 "metadata": {
  "accelerator": "GPU",
  "colab": {
   "gpuType": "A100",
   "machine_shape": "hm",
   "provenance": []
  },
  "kernelspec": {
   "display_name": "Python 3 (ipykernel)",
   "language": "python",
   "name": "python3"
  },
  "language_info": {
   "codemirror_mode": {
    "name": "ipython",
    "version": 3
   },
   "file_extension": ".py",
   "mimetype": "text/x-python",
   "name": "python",
   "nbconvert_exporter": "python",
   "pygments_lexer": "ipython3",
   "version": "3.10.6"
  }
 },
 "nbformat": 4,
 "nbformat_minor": 5
}
